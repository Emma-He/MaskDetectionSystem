{
 "cells": [
  {
   "cell_type": "code",
   "execution_count": 1,
   "metadata": {},
   "outputs": [
    {
     "name": "stdout",
     "output_type": "stream",
     "text": [
      "Epoch 1/10\n",
      "  1/120 [..............................] - ETA: 0s - loss: 0.6936 - accuracy: 0.5312WARNING:tensorflow:From /opt/anaconda3/lib/python3.8/site-packages/tensorflow/python/ops/summary_ops_v2.py:1277: stop (from tensorflow.python.eager.profiler) is deprecated and will be removed after 2020-07-01.\n",
      "Instructions for updating:\n",
      "use `tf.profiler.experimental.stop` instead.\n",
      "120/120 [==============================] - 7s 57ms/step - loss: 0.4321 - accuracy: 0.7999 - val_loss: 0.2944 - val_accuracy: 0.8606\n",
      "Epoch 2/10\n",
      "120/120 [==============================] - 7s 56ms/step - loss: 0.2288 - accuracy: 0.9080 - val_loss: 0.2032 - val_accuracy: 0.9214\n",
      "Epoch 3/10\n",
      "120/120 [==============================] - 7s 56ms/step - loss: 0.1853 - accuracy: 0.9279 - val_loss: 0.2051 - val_accuracy: 0.9172\n",
      "Epoch 4/10\n",
      "120/120 [==============================] - 7s 55ms/step - loss: 0.1493 - accuracy: 0.9442 - val_loss: 0.1853 - val_accuracy: 0.9224\n",
      "Epoch 5/10\n",
      "120/120 [==============================] - 7s 55ms/step - loss: 0.1100 - accuracy: 0.9604 - val_loss: 0.1420 - val_accuracy: 0.9423\n",
      "Epoch 6/10\n",
      "120/120 [==============================] - 7s 56ms/step - loss: 0.0998 - accuracy: 0.9670 - val_loss: 0.1108 - val_accuracy: 0.9549\n",
      "Epoch 7/10\n",
      "120/120 [==============================] - 7s 55ms/step - loss: 0.0827 - accuracy: 0.9685 - val_loss: 0.1064 - val_accuracy: 0.9581\n",
      "Epoch 8/10\n",
      "120/120 [==============================] - 7s 58ms/step - loss: 0.0608 - accuracy: 0.9795 - val_loss: 0.1014 - val_accuracy: 0.9612\n",
      "Epoch 9/10\n",
      "120/120 [==============================] - 7s 60ms/step - loss: 0.0503 - accuracy: 0.9845 - val_loss: 0.0939 - val_accuracy: 0.9623\n",
      "Epoch 10/10\n",
      "120/120 [==============================] - 7s 56ms/step - loss: 0.0449 - accuracy: 0.9853 - val_loss: 0.0880 - val_accuracy: 0.9623\n"
     ]
    },
    {
     "data": {
      "text/plain": [
       "<tensorflow.python.keras.callbacks.History at 0x7fa42e50c280>"
      ]
     },
     "execution_count": 1,
     "metadata": {},
     "output_type": "execute_result"
    }
   ],
   "source": [
    "import tensorflow as tf\n",
    "import numpy as np\n",
    "from tensorflow.keras.models import Sequential\n",
    "from tensorflow.keras.layers import Dense, Dropout, Activation, Flatten, Conv2D, MaxPooling2D\n",
    "from tensorflow.keras.callbacks import TensorBoard\n",
    "import pickle\n",
    "import time\n",
    "\n",
    "NAME = \"Masked-or-unmasked-{}\".format(int(time.time()))\n",
    "tensorboard = TensorBoard(log_dir=\"logs/{}\".format(NAME))\n",
    "\n",
    "X = pickle.load(open(\"X.pickle\", \"rb\"))\n",
    "y = pickle.load(open(\"y.pickle\", \"rb\"))\n",
    "\n",
    "X = np.array(X/255.0)\n",
    "y = np.array(y)\n",
    "\n",
    "model = Sequential()\n",
    "\n",
    "model.add(Conv2D(64, (3, 3), input_shape = X.shape[1:]))\n",
    "model.add(Activation(\"relu\"))\n",
    "model.add(MaxPooling2D(pool_size=(2,2)))\n",
    "\n",
    "model.add(Conv2D(64, (3, 3)))\n",
    "model.add(Activation(\"relu\"))\n",
    "model.add(MaxPooling2D(pool_size=(2,2)))\n",
    "\n",
    "model.add(Flatten())\n",
    "model.add(Dense(64))\n",
    "model.add(Activation(\"relu\"))\n",
    "\n",
    "model.add(Dense(1))\n",
    "model.add(Activation(\"sigmoid\"))\n",
    "\n",
    "model.compile(loss=\"binary_crossentropy\", optimizer=\"adam\",metrics=[\"accuracy\"])\n",
    "\n",
    "model.fit(X, y, batch_size=32, epochs=10, validation_split=0.2, callbacks = [tensorboard])"
   ]
  }
 ],
 "metadata": {
  "kernelspec": {
   "display_name": "Python 3",
   "language": "python",
   "name": "python3"
  },
  "language_info": {
   "codemirror_mode": {
    "name": "ipython",
    "version": 3
   },
   "file_extension": ".py",
   "mimetype": "text/x-python",
   "name": "python",
   "nbconvert_exporter": "python",
   "pygments_lexer": "ipython3",
   "version": "3.8.3"
  }
 },
 "nbformat": 4,
 "nbformat_minor": 4
}
